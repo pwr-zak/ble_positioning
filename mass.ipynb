{
 "cells": [
  {
   "cell_type": "markdown",
   "metadata": {},
   "source": [
    "# Mass"
   ]
  },
  {
   "cell_type": "markdown",
   "metadata": {},
   "source": [
    "### Import"
   ]
  },
  {
   "cell_type": "code",
   "execution_count": 1,
   "metadata": {},
   "outputs": [],
   "source": [
    "import numpy as np\n",
    "import pandas as pd\n",
    "import math \n",
    "\n",
    "from scipy.spatial import distance"
   ]
  },
  {
   "cell_type": "markdown",
   "metadata": {},
   "source": [
    "### Define algorithm"
   ]
  },
  {
   "cell_type": "code",
   "execution_count": 2,
   "metadata": {},
   "outputs": [],
   "source": [
    "def alg(_input):\n",
    "    i_x = 0\n",
    "    i_y = 1\n",
    "    i_tss = 5\n",
    "    \n",
    "    total_mass = 0\n",
    "    total_mass_x = 0\n",
    "    total_mass_y = 0\n",
    "    \n",
    "    for anchor in _input:\n",
    "        anchor_mass = math.sqrt(anchor[i_tss])\n",
    "        total_mass += anchor_mass\n",
    "        total_mass_x += (anchor_mass * anchor[i_x])\n",
    "        total_mass_y += (anchor_mass * anchor[i_y])\n",
    "    \n",
    "    pos_x = total_mass_x / total_mass\n",
    "    pos_y = total_mass_y / total_mass\n",
    "    \n",
    "    return (pos_x, pos_y)"
   ]
  },
  {
   "cell_type": "markdown",
   "metadata": {},
   "source": [
    "### Create sections"
   ]
  },
  {
   "cell_type": "code",
   "execution_count": 3,
   "metadata": {},
   "outputs": [
    {
     "name": "stdout",
     "output_type": "stream",
     "text": [
      "Section 01: from point (12, 63) to point (20, 72)\n",
      "Section 02: from point (12, 56) to point (20, 63)\n",
      "Section 03: from point (12, 49) to point (20, 56)\n",
      "Section 04: from point (12, 42) to point (20, 49)\n",
      "Section 05: from point (12, 35) to point (20, 42)\n",
      "Section 06: from point (12, 28) to point (20, 35)\n",
      "Section 07: from point (12, 21) to point (20, 28)\n",
      "Section 08: from point (12, 14) to point (20, 21)\n",
      "Section 09: from point (12, 07) to point (20, 14)\n",
      "Section 10: from point (12, 00) to point (20, 07)\n",
      "Section 11: from point (00, 63) to point (08, 72)\n",
      "Section 12: from point (00, 56) to point (08, 63)\n",
      "Section 13: from point (00, 49) to point (08, 56)\n",
      "Section 14: from point (00, 42) to point (08, 49)\n",
      "Section 15: from point (00, 35) to point (08, 42)\n",
      "Section 16: from point (00, 28) to point (08, 35)\n",
      "Section 17: from point (00, 21) to point (08, 28)\n",
      "Section 18: from point (00, 14) to point (08, 21)\n",
      "Section 19: from point (00, 07) to point (08, 14)\n",
      "Section 20: from point (00, 00) to point (08, 07)\n"
     ]
    }
   ],
   "source": [
    "def create_sections():\n",
    "    windows_size = 7\n",
    "    sections = []\n",
    "\n",
    "    width = 8\n",
    "    for x in [0, 12]:\n",
    "        for y in range(0,69,windows_size):\n",
    "            height = 7 if y != 63 else 9\n",
    "            sections.append([(x,y), (x+width, y+height)])\n",
    "\n",
    "    sections = list(reversed(sections))\n",
    "\n",
    "    for i in range(len(sections)):\n",
    "        print(\"Section {:02d}: from point ({:02d}, {:02d}) to point ({:02d}, {:02d})\".format(i+1, sections[i][0][0], sections[i][0][1], sections[i][1][0], sections[i][1][1]))\n",
    "\n",
    "    return sections, windows_size\n",
    "\n",
    "sections_xy, windows_size = create_sections()"
   ]
  },
  {
   "cell_type": "markdown",
   "metadata": {},
   "source": [
    "### Section utils"
   ]
  },
  {
   "cell_type": "code",
   "execution_count": 4,
   "metadata": {},
   "outputs": [],
   "source": [
    "def xy_to_section(pos_x, pos_y):\n",
    "    pos_x = 8 if (8 < pos_x <= 10) else pos_x\n",
    "    pos_x = 12 if (10 < pos_x <= 12) else pos_x\n",
    "    \n",
    "    for i, section in enumerate(sections_xy):\n",
    "        if section[0][0] <= pos_x <= section[1][0] and section[0][1] <= pos_y <= section[1][1]:\n",
    "            return i\n",
    "    \n",
    "    print(\"Error: no section\")\n",
    "\n",
    "def section_distance(true, predicted):\n",
    "    true = sections_xy[true]\n",
    "    predicted = sections_xy[predicted]\n",
    "\n",
    "    if true[0][0] == predicted[0][0]:\n",
    "        res = abs(true[0][1]/windows_size - predicted[0][1]/windows_size)\n",
    "    else:\n",
    "        if true[0][1] == predicted[0][1]:\n",
    "            res = 1\n",
    "        else:\n",
    "            res = abs(true[0][1]/windows_size - predicted[0][1]/windows_size)\n",
    "            \n",
    "    return res "
   ]
  },
  {
   "cell_type": "markdown",
   "metadata": {},
   "source": [
    "### Run functions"
   ]
  },
  {
   "cell_type": "code",
   "execution_count": 5,
   "metadata": {},
   "outputs": [],
   "source": [
    "def get_data():\n",
    "    header_list = [\"cowshed\", \"cow\", \"true_pos_x\", \"true_pos_y\", \"anchor_x\", \"anchor_y\", \"anchor_id\", \"rssi\", \"rssi_std\", \"samples\", \"tss\"]\n",
    "\n",
    "    df_all_grouped = pd.read_csv(\"./data.csv\", names=header_list, sep=\";\").groupby([\"cowshed\", \"cow\", \"true_pos_x\", \"true_pos_y\"])\n",
    "    df_all_grouped = [df_all_grouped.get_group(x) for x in df_all_grouped.groups]\n",
    "    \n",
    "    data = []\n",
    "    for df in df_all_grouped:\n",
    "        df = df.sort_values(by=\"samples\", ascending=False)\n",
    "        df = df.drop_duplicates(subset=[\"anchor_id\"])\n",
    "        \n",
    "        if not(len(df) >= 6 and len(df.loc[df[\"samples\"] > 18]) >= 4):\n",
    "            continue\n",
    "    \n",
    "        _input = pd.DataFrame(df, columns=[\"anchor_x\", \"anchor_y\", \"rssi\", \"rssi_std\", \"samples\", \"tss\"]).to_numpy()\n",
    "        _ground_truth = tuple(pd.DataFrame(df, columns=[\"true_pos_x\", \"true_pos_y\"]).to_numpy()[0])\n",
    "        \n",
    "        data.append((_input, _ground_truth))\n",
    "    return data\n",
    "\n",
    "def print_results(errors, pre_text = ''):\n",
    "    e = np.array(errors)\n",
    "    e = np.sort(e)\n",
    "    _min = round(e.min(), 2)\n",
    "    _avg = round(e.mean(), 2)\n",
    "    _std = round(e.std(), 2)\n",
    "    _median = round(np.percentile(e, 50, interpolation='nearest'), 2)\n",
    "    _per90 = round(np.percentile(e, 90, interpolation='nearest'), 2)\n",
    "    _per95 = round(np.percentile(e, 95, interpolation='nearest'), 2)\n",
    "    _max = round(e.max(), 2)\n",
    "    print(\"{:15s} min = {:.2f}, avg = {:.2f}, std = {:.2f}, median = {:.2f}, 90 pctil = {:.2f}, 95 pctil = {:.2f}, max = {:.2f}\".format(pre_text, _min, _avg, _std, _median, _per90, _per95, _max))\n",
    "\n",
    "def run():\n",
    "    data = get_data()\n",
    "    \n",
    "    errors_xy = []\n",
    "    errors_sections = []    \n",
    "    for (_input, _ground_truth) in data:\n",
    "        predicted = alg(_input)\n",
    "        \n",
    "        xy_error = distance.euclidean(_ground_truth, predicted)\n",
    "        errors_xy.append(xy_error)\n",
    "        \n",
    "        true_section = xy_to_section(*_ground_truth)\n",
    "        predicted_section = xy_to_section(*predicted)\n",
    "        section_error = section_distance(true_section, predicted_section)\n",
    "        errors_sections.append(section_error)\n",
    "\n",
    "    print_results(errors_xy, \"XY error:\")\n",
    "    print_results(errors_sections, \"Sections error:\")"
   ]
  },
  {
   "cell_type": "markdown",
   "metadata": {},
   "source": [
    "### Run"
   ]
  },
  {
   "cell_type": "code",
   "execution_count": 6,
   "metadata": {},
   "outputs": [
    {
     "name": "stdout",
     "output_type": "stream",
     "text": [
      "XY error:       min = 0.60, avg = 8.85, std = 4.63, median = 8.65, 90 pctil = 14.87, 95 pctil = 15.57, max = 25.45\n",
      "Sections error: min = 0.00, avg = 1.07, std = 0.66, median = 1.00, 90 pctil = 2.00, 95 pctil = 2.00, max = 3.00\n"
     ]
    }
   ],
   "source": [
    "run()"
   ]
  }
 ],
 "metadata": {
  "kernelspec": {
   "display_name": "Python 3",
   "language": "python",
   "name": "python3"
  },
  "language_info": {
   "codemirror_mode": {
    "name": "ipython",
    "version": 3
   },
   "file_extension": ".py",
   "mimetype": "text/x-python",
   "name": "python",
   "nbconvert_exporter": "python",
   "pygments_lexer": "ipython3",
   "version": "3.6.9"
  }
 },
 "nbformat": 4,
 "nbformat_minor": 4
}
